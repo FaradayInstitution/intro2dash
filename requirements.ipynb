{
 "cells": [
  {
   "cell_type": "code",
   "execution_count": null,
   "metadata": {},
   "outputs": [
    {
     "name": "stdout",
     "output_type": "stream",
     "text": [
      "Collecting dash==0.28.2\n",
      "Collecting flask-compress (from dash==0.28.2)\n",
      "Collecting plotly (from dash==0.28.2)\n",
      "  Using cached https://files.pythonhosted.org/packages/d6/3b/abec247e24e2b8f29793811788fe0607062f40eefe3104823ad57f06ecf1/plotly-3.3.0-py2.py3-none-any.whl\n",
      "Collecting Flask>=0.12 (from dash==0.28.2)\n",
      "  Using cached https://files.pythonhosted.org/packages/7f/e7/08578774ed4536d3242b14dacb4696386634607af824ea997202cd0edb4b/Flask-1.0.2-py2.py3-none-any.whl\n",
      "Collecting dash-renderer (from dash==0.28.2)\n",
      "Collecting requests (from plotly->dash==0.28.2)\n",
      "  Using cached https://files.pythonhosted.org/packages/f1/ca/10332a30cb25b627192b4ea272c351bce3ca1091e541245cccbace6051d8/requests-2.20.0-py2.py3-none-any.whl\n",
      "Collecting six (from plotly->dash==0.28.2)\n",
      "  Using cached https://files.pythonhosted.org/packages/67/4b/141a581104b1f6397bfa78ac9d43d8ad29a7ca43ea90a2d863fe3056e86a/six-1.11.0-py2.py3-none-any.whl\n",
      "Collecting decorator>=4.0.6 (from plotly->dash==0.28.2)\n",
      "  Using cached https://files.pythonhosted.org/packages/bc/bb/a24838832ba35baf52f32ab1a49b906b5f82fb7c76b2f6a7e35e140bac30/decorator-4.3.0-py2.py3-none-any.whl\n",
      "Collecting retrying>=1.3.3 (from plotly->dash==0.28.2)\n",
      "Collecting nbformat>=4.2 (from plotly->dash==0.28.2)\n",
      "  Using cached https://files.pythonhosted.org/packages/da/27/9a654d2b6cc1eaa517d1c5a4405166c7f6d72f04f6e7eea41855fe808a46/nbformat-4.4.0-py2.py3-none-any.whl\n",
      "Collecting pytz (from plotly->dash==0.28.2)\n",
      "  Using cached https://files.pythonhosted.org/packages/52/8b/876c5745f617630be90cfb8fafe363c6d7204b176dc707d1805d1e9a0a35/pytz-2018.6-py2.py3-none-any.whl\n",
      "Collecting itsdangerous>=0.24 (from Flask>=0.12->dash==0.28.2)\n",
      "  Using cached https://files.pythonhosted.org/packages/c9/c3/8dadb353944803796515ce68ad3944e6e7acc934f5036c40829cb96e64a1/ItsDangerous-1.0.0-py2.py3-none-any.whl\n",
      "Collecting Jinja2>=2.10 (from Flask>=0.12->dash==0.28.2)\n",
      "  Using cached https://files.pythonhosted.org/packages/7f/ff/ae64bacdfc95f27a016a7bed8e8686763ba4d277a78ca76f32659220a731/Jinja2-2.10-py2.py3-none-any.whl\n",
      "Collecting click>=5.1 (from Flask>=0.12->dash==0.28.2)\n",
      "  Using cached https://files.pythonhosted.org/packages/fa/37/45185cb5abbc30d7257104c434fe0b07e5a195a6847506c074527aa599ec/Click-7.0-py2.py3-none-any.whl\n",
      "Collecting Werkzeug>=0.14 (from Flask>=0.12->dash==0.28.2)\n",
      "  Using cached https://files.pythonhosted.org/packages/20/c4/12e3e56473e52375aa29c4764e70d1b8f3efa6682bef8d0aae04fe335243/Werkzeug-0.14.1-py2.py3-none-any.whl\n",
      "Collecting urllib3<1.25,>=1.21.1 (from requests->plotly->dash==0.28.2)\n",
      "  Using cached https://files.pythonhosted.org/packages/8c/4b/5cbc4cb46095f369117dcb751821e1bef9dd86a07c968d8757e9204c324c/urllib3-1.24-py2.py3-none-any.whl\n",
      "Collecting idna<2.8,>=2.5 (from requests->plotly->dash==0.28.2)\n",
      "  Using cached https://files.pythonhosted.org/packages/4b/2a/0276479a4b3caeb8a8c1af2f8e4355746a97fab05a372e4a2c6a6b876165/idna-2.7-py2.py3-none-any.whl\n",
      "Collecting chardet<3.1.0,>=3.0.2 (from requests->plotly->dash==0.28.2)\n",
      "  Using cached https://files.pythonhosted.org/packages/bc/a9/01ffebfb562e4274b6487b4bb1ddec7ca55ec7510b22e4c51f14098443b8/chardet-3.0.4-py2.py3-none-any.whl\n",
      "Collecting certifi>=2017.4.17 (from requests->plotly->dash==0.28.2)\n",
      "  Using cached https://files.pythonhosted.org/packages/56/9d/1d02dd80bc4cd955f98980f28c5ee2200e1209292d5f9e9cc8d030d18655/certifi-2018.10.15-py2.py3-none-any.whl\n",
      "Collecting ipython-genutils (from nbformat>=4.2->plotly->dash==0.28.2)\n",
      "  Using cached https://files.pythonhosted.org/packages/fa/bc/9bd3b5c2b4774d5f33b2d544f1460be9df7df2fe42f352135381c347c69a/ipython_genutils-0.2.0-py2.py3-none-any.whl\n",
      "Collecting traitlets>=4.1 (from nbformat>=4.2->plotly->dash==0.28.2)\n",
      "  Using cached https://files.pythonhosted.org/packages/93/d6/abcb22de61d78e2fc3959c964628a5771e47e7cc60d53e9342e21ed6cc9a/traitlets-4.3.2-py2.py3-none-any.whl\n",
      "Collecting jupyter-core (from nbformat>=4.2->plotly->dash==0.28.2)\n",
      "  Using cached https://files.pythonhosted.org/packages/1d/44/065d2d7bae7bebc06f1dd70d23c36da8c50c0f08b4236716743d706762a8/jupyter_core-4.4.0-py2.py3-none-any.whl\n",
      "Collecting jsonschema!=2.5.0,>=2.4 (from nbformat>=4.2->plotly->dash==0.28.2)\n",
      "  Using cached https://files.pythonhosted.org/packages/77/de/47e35a97b2b05c2fadbec67d44cfcdcd09b8086951b331d82de90d2912da/jsonschema-2.6.0-py2.py3-none-any.whl\n",
      "Collecting MarkupSafe>=0.23 (from Jinja2>=2.10->Flask>=0.12->dash==0.28.2)\n",
      "Installing collected packages: itsdangerous, MarkupSafe, Jinja2, click, Werkzeug, Flask, flask-compress, urllib3, idna, chardet, certifi, requests, six, decorator, retrying, ipython-genutils, traitlets, jupyter-core, jsonschema, nbformat, pytz, plotly, dash-renderer, dash\n",
      "Successfully installed Flask-1.0.2 Jinja2-2.10 MarkupSafe-1.0 Werkzeug-0.14.1 certifi-2018.10.15 chardet-3.0.4 click-7.0 dash-0.28.5 dash-renderer-0.14.3 decorator-4.3.0 flask-compress-1.4.0 idna-2.7 ipython-genutils-0.2.0 itsdangerous-1.0.0 jsonschema-2.6.0 jupyter-core-4.4.0 nbformat-4.4.0 plotly-3.3.0 pytz-2018.6 requests-2.20.0 retrying-1.3.3 six-1.11.0 traitlets-4.3.2 urllib3-1.24\n",
      "Collecting dash-html-components==0.13.2\n",
      "Collecting dash (from dash-html-components==0.13.2)\n",
      "Collecting dash-renderer (from dash->dash-html-components==0.13.2)\n",
      "Collecting plotly (from dash->dash-html-components==0.13.2)\n",
      "  Using cached https://files.pythonhosted.org/packages/d6/3b/abec247e24e2b8f29793811788fe0607062f40eefe3104823ad57f06ecf1/plotly-3.3.0-py2.py3-none-any.whl\n",
      "Collecting flask-compress (from dash->dash-html-components==0.13.2)\n",
      "Collecting Flask>=0.12 (from dash->dash-html-components==0.13.2)\n",
      "  Using cached https://files.pythonhosted.org/packages/7f/e7/08578774ed4536d3242b14dacb4696386634607af824ea997202cd0edb4b/Flask-1.0.2-py2.py3-none-any.whl\n",
      "Collecting six (from plotly->dash->dash-html-components==0.13.2)\n",
      "  Using cached https://files.pythonhosted.org/packages/67/4b/141a581104b1f6397bfa78ac9d43d8ad29a7ca43ea90a2d863fe3056e86a/six-1.11.0-py2.py3-none-any.whl\n",
      "Collecting nbformat>=4.2 (from plotly->dash->dash-html-components==0.13.2)\n",
      "  Using cached https://files.pythonhosted.org/packages/da/27/9a654d2b6cc1eaa517d1c5a4405166c7f6d72f04f6e7eea41855fe808a46/nbformat-4.4.0-py2.py3-none-any.whl\n",
      "Collecting decorator>=4.0.6 (from plotly->dash->dash-html-components==0.13.2)\n",
      "  Using cached https://files.pythonhosted.org/packages/bc/bb/a24838832ba35baf52f32ab1a49b906b5f82fb7c76b2f6a7e35e140bac30/decorator-4.3.0-py2.py3-none-any.whl\n",
      "Collecting pytz (from plotly->dash->dash-html-components==0.13.2)\n",
      "  Using cached https://files.pythonhosted.org/packages/52/8b/876c5745f617630be90cfb8fafe363c6d7204b176dc707d1805d1e9a0a35/pytz-2018.6-py2.py3-none-any.whl\n",
      "Collecting retrying>=1.3.3 (from plotly->dash->dash-html-components==0.13.2)\n",
      "Collecting requests (from plotly->dash->dash-html-components==0.13.2)\n",
      "  Using cached https://files.pythonhosted.org/packages/f1/ca/10332a30cb25b627192b4ea272c351bce3ca1091e541245cccbace6051d8/requests-2.20.0-py2.py3-none-any.whl\n",
      "Collecting click>=5.1 (from Flask>=0.12->dash->dash-html-components==0.13.2)\n",
      "  Using cached https://files.pythonhosted.org/packages/fa/37/45185cb5abbc30d7257104c434fe0b07e5a195a6847506c074527aa599ec/Click-7.0-py2.py3-none-any.whl\n",
      "Collecting itsdangerous>=0.24 (from Flask>=0.12->dash->dash-html-components==0.13.2)\n",
      "  Using cached https://files.pythonhosted.org/packages/c9/c3/8dadb353944803796515ce68ad3944e6e7acc934f5036c40829cb96e64a1/ItsDangerous-1.0.0-py2.py3-none-any.whl\n",
      "Collecting Jinja2>=2.10 (from Flask>=0.12->dash->dash-html-components==0.13.2)\n",
      "  Using cached https://files.pythonhosted.org/packages/7f/ff/ae64bacdfc95f27a016a7bed8e8686763ba4d277a78ca76f32659220a731/Jinja2-2.10-py2.py3-none-any.whl\n",
      "Collecting Werkzeug>=0.14 (from Flask>=0.12->dash->dash-html-components==0.13.2)\n",
      "  Using cached https://files.pythonhosted.org/packages/20/c4/12e3e56473e52375aa29c4764e70d1b8f3efa6682bef8d0aae04fe335243/Werkzeug-0.14.1-py2.py3-none-any.whl\n",
      "Collecting jupyter-core (from nbformat>=4.2->plotly->dash->dash-html-components==0.13.2)\n",
      "  Using cached https://files.pythonhosted.org/packages/1d/44/065d2d7bae7bebc06f1dd70d23c36da8c50c0f08b4236716743d706762a8/jupyter_core-4.4.0-py2.py3-none-any.whl\n",
      "Collecting traitlets>=4.1 (from nbformat>=4.2->plotly->dash->dash-html-components==0.13.2)\n"
     ]
    },
    {
     "name": "stdout",
     "output_type": "stream",
     "text": [
      "  Using cached https://files.pythonhosted.org/packages/93/d6/abcb22de61d78e2fc3959c964628a5771e47e7cc60d53e9342e21ed6cc9a/traitlets-4.3.2-py2.py3-none-any.whl\n",
      "Collecting jsonschema!=2.5.0,>=2.4 (from nbformat>=4.2->plotly->dash->dash-html-components==0.13.2)\n",
      "  Using cached https://files.pythonhosted.org/packages/77/de/47e35a97b2b05c2fadbec67d44cfcdcd09b8086951b331d82de90d2912da/jsonschema-2.6.0-py2.py3-none-any.whl\n",
      "Collecting ipython-genutils (from nbformat>=4.2->plotly->dash->dash-html-components==0.13.2)\n",
      "  Using cached https://files.pythonhosted.org/packages/fa/bc/9bd3b5c2b4774d5f33b2d544f1460be9df7df2fe42f352135381c347c69a/ipython_genutils-0.2.0-py2.py3-none-any.whl\n",
      "Collecting urllib3<1.25,>=1.21.1 (from requests->plotly->dash->dash-html-components==0.13.2)\n",
      "  Using cached https://files.pythonhosted.org/packages/8c/4b/5cbc4cb46095f369117dcb751821e1bef9dd86a07c968d8757e9204c324c/urllib3-1.24-py2.py3-none-any.whl\n",
      "Collecting certifi>=2017.4.17 (from requests->plotly->dash->dash-html-components==0.13.2)\n",
      "  Using cached https://files.pythonhosted.org/packages/56/9d/1d02dd80bc4cd955f98980f28c5ee2200e1209292d5f9e9cc8d030d18655/certifi-2018.10.15-py2.py3-none-any.whl\n",
      "Collecting idna<2.8,>=2.5 (from requests->plotly->dash->dash-html-components==0.13.2)\n",
      "  Using cached https://files.pythonhosted.org/packages/4b/2a/0276479a4b3caeb8a8c1af2f8e4355746a97fab05a372e4a2c6a6b876165/idna-2.7-py2.py3-none-any.whl\n",
      "Collecting chardet<3.1.0,>=3.0.2 (from requests->plotly->dash->dash-html-components==0.13.2)\n",
      "  Using cached https://files.pythonhosted.org/packages/bc/a9/01ffebfb562e4274b6487b4bb1ddec7ca55ec7510b22e4c51f14098443b8/chardet-3.0.4-py2.py3-none-any.whl\n",
      "Collecting MarkupSafe>=0.23 (from Jinja2>=2.10->Flask>=0.12->dash->dash-html-components==0.13.2)\n",
      "Installing collected packages: dash-renderer, six, decorator, ipython-genutils, traitlets, jupyter-core, jsonschema, nbformat, pytz, retrying, urllib3, certifi, idna, chardet, requests, plotly, click, itsdangerous, MarkupSafe, Jinja2, Werkzeug, Flask, flask-compress, dash, dash-html-components\n"
     ]
    }
   ],
   "source": [
    "import sys\n",
    "! python3 -m pip install dash==0.28.2  # The core dash backend\n",
    "! python3 -m pip install dash-html-components==0.13.2 # HTML components\n",
    "! python3 -m pip install dash-core-components==0.30.2 # Supercharged components"
   ]
  },
  {
   "cell_type": "code",
   "execution_count": null,
   "metadata": {},
   "outputs": [],
   "source": [
    "! python3 -m pip install jupyter_plotly_dash"
   ]
  },
  {
   "cell_type": "code",
   "execution_count": null,
   "metadata": {},
   "outputs": [],
   "source": [
    "! python3 -m pip install plotly"
   ]
  },
  {
   "cell_type": "code",
   "execution_count": null,
   "metadata": {},
   "outputs": [],
   "source": [
    "! python3 -m pip install numpy"
   ]
  }
 ],
 "metadata": {
  "kernelspec": {
   "display_name": "Python 3",
   "language": "python",
   "name": "python3"
  },
  "language_info": {
   "codemirror_mode": {
    "name": "ipython",
    "version": 3
   },
   "file_extension": ".py",
   "mimetype": "text/x-python",
   "name": "python",
   "nbconvert_exporter": "python",
   "pygments_lexer": "ipython3",
   "version": "3.6.6"
  }
 },
 "nbformat": 4,
 "nbformat_minor": 2
}
