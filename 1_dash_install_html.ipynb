{
 "cells": [
  {
   "cell_type": "markdown",
   "metadata": {},
   "source": [
    "# Dash: installation and first steps #\n",
    "\n",
    "## What is Dash?\n",
    "> Dash is a Open Source Python library for creating reactive, Web-based applications. [Source](https://medium.com/@plotlygraphs/introducing-dash-5ecf7191b503)\n",
    "\n",
    "Dash allows the components of a web-based application to interact with each other, for example using a dropdown menu to select what to show on a plot. Thus, it builds up from the plotly capabilities, allowing plots to be updated even at real time. Dash produced a dashboard web application at a local url, typically [http://127.0.0.1:8050/](http://127.0.0.1:8050/).\n",
    "\n",
    "## How to install it?\n",
    "[Install Dash following](https://dash.plot.ly/installation). In Windows you can do the installation within Visual Strudio. If you want to install dash within jupyter notebooks, you can do so writing and running the following cell:\n",
    "\n",
    "`\n",
    "import sys\n",
    "! python -m pip install dash==0.28.2  # The core dash backend\n",
    "! python -m pip install dash-html-components==0.13.2 # HTML components\n",
    "! python -m pip install dash-core-components==0.30.2 # Supercharged components\n",
    "`\n",
    "\n",
    "## Initial example\n",
    "Here we are going to produce a first web entry with some html text.\n",
    "\n",
    "Let's start by loading the dash libraries:"
   ]
  },
  {
   "cell_type": "code",
   "execution_count": 1,
   "metadata": {},
   "outputs": [],
   "source": [
    "import dash\n",
    "import dash_html_components as html # It will translate your text/code into html"
   ]
  },
  {
   "cell_type": "markdown",
   "metadata": {},
   "source": [
    "For running dash within jupyter notebooks one can install the [jupyter-plotly-dash package](https://pypi.org/project/jupyter-plotly-dash/): `pip install jupyter_plotly_dash`\n",
    "\n",
    "This package requires having the 'msgpack' library: `pip install msgpack`\n",
    "\n",
    "Once the [jupyter-plotly-dash package](https://pypi.org/project/jupyter-plotly-dash/) is installed, import the required parts:"
   ]
  },
  {
   "cell_type": "code",
   "execution_count": 2,
   "metadata": {},
   "outputs": [],
   "source": [
    "from jupyter_plotly_dash import JupyterDash"
   ]
  },
  {
   "cell_type": "markdown",
   "metadata": {},
   "source": [
    "### Define the dash 'application' ###\n",
    "\n",
    "The dash application is defined differently in a python or in a jupyter notebook environment:"
   ]
  },
  {
   "cell_type": "code",
   "execution_count": 3,
   "metadata": {},
   "outputs": [],
   "source": [
    "# dash_app = dash.Dash('my first dash app') # In a python environment\n",
    "dash_app = JupyterDash('my first dash app') # In a jupyter notebook environment"
   ]
  },
  {
   "cell_type": "markdown",
   "metadata": {},
   "source": [
    "### The layout ###\n",
    "Dash applications can contain several elements of different characteristics, from html text to graphs. The way these elements are presented is described in the application layout. Here we focus on the html components.\n",
    "\n",
    "> The layout of a Dash app describes what the app looks like. The layout is a hierarchical tree of components. The dash_html_components library provides classes for all of the HTML tags and the keyword arguments describe the HTML attributes like style, className, and id. \n",
    ">> Ref: [dash html components](https://dash.plot.ly/dash-html-components)\n",
    "\n",
    "Now wee are going to define the layout ot the application adding a simple text that dash will convert into html. Below, `children=` is usually not written as it is implied."
   ]
  },
  {
   "cell_type": "code",
   "execution_count": 4,
   "metadata": {},
   "outputs": [],
   "source": [
    "dash_app.layout = html.Div(children='Hello World')"
   ]
  },
  {
   "cell_type": "markdown",
   "metadata": {},
   "source": [
    "### Run the application ##\n",
    "\n",
    "To das application is run differently in a python environment and in a jupyter notebook:"
   ]
  },
  {
   "cell_type": "code",
   "execution_count": 5,
   "metadata": {},
   "outputs": [
    {
     "data": {
      "text/html": [
       "<div>\n",
       "  <iframe src=\"/app/endpoints/b10c0290c42d44598e22311884b67a75/\" width=800 height=600 frameborder=\"0\"></iframe>\n",
       "  <hr/><a href=\"/app/endpoints/b10c0290c42d44598e22311884b67a75/\" target=\"_new\">Open in new window</a> for /app/endpoints/b10c0290c42d44598e22311884b67a75/\n",
       "</div>"
      ],
      "text/plain": [
       "<jupyter_plotly_dash.dash_wrapper.JupyterDash at 0x1363b490>"
      ]
     },
     "execution_count": 5,
     "metadata": {},
     "output_type": "execute_result"
    }
   ],
   "source": [
    "#dash_app.run_server(debug=True) # In a python environment\n",
    "dash_app # In a jupyter notebook environment"
   ]
  },
  {
   "cell_type": "markdown",
   "metadata": {},
   "source": [
    "Above we used `html.Div` to create a new division, section or block. Dash allows you to also include paragraphs (`html.P`), etc, as indicated in the [documentation](https://dash.plot.ly/dash-html-components). You can also access this information offline by using the help function:"
   ]
  },
  {
   "cell_type": "code",
   "execution_count": 6,
   "metadata": {},
   "outputs": [
    {
     "name": "stdout",
     "output_type": "stream",
     "text": [
      "Help on class Div in module dash_html_components.Div:\n",
      "\n",
      "class Div(dash.development.base_component.Component)\n",
      " |  A Div component.\n",
      " |  \n",
      " |  \n",
      " |  Keyword arguments:\n",
      " |  - children (a list of or a singular dash component, string or number; optional): The children of this component\n",
      " |  - id (string; optional): The ID of this component, used to identify dash components\n",
      " |  in callbacks. The ID needs to be unique across all of the\n",
      " |  components in an app.\n",
      " |  - n_clicks (optional): An integer that represents the number of times\n",
      " |  that this element has been clicked on.\n",
      " |  - n_clicks_timestamp (optional): An integer that represents the time (in ms since 1970)\n",
      " |  at which n_clicks changed. This can be used to tell\n",
      " |  which button was changed most recently.\n",
      " |  - key (string; optional): A unique identifier for the component, used to improve\n",
      " |  performance by React.js while rendering components\n",
      " |  See https://reactjs.org/docs/lists-and-keys.html for more info\n",
      " |  - role (string; optional): The ARIA role attribute\n",
      " |  - data-* (string; optional): A wildcard data attribute\n",
      " |  - aria-* (string; optional): A wildcard aria attribute\n",
      " |  - accessKey (string; optional): Defines a keyboard shortcut to activate or add focus to the element.\n",
      " |  - className (string; optional): Often used with CSS to style elements with common properties.\n",
      " |  - contentEditable (string; optional): Indicates whether the element's content is editable.\n",
      " |  - contextMenu (string; optional): Defines the ID of a <menu> element which will serve as the element's context menu.\n",
      " |  - dir (string; optional): Defines the text direction. Allowed values are ltr (Left-To-Right) or rtl (Right-To-Left)\n",
      " |  - draggable (string; optional): Defines whether the element can be dragged.\n",
      " |  - hidden (string; optional): Prevents rendering of given element, while keeping child elements, e.g. script elements, active.\n",
      " |  - lang (string; optional): Defines the language used in the element.\n",
      " |  - spellCheck (string; optional): Indicates whether spell checking is allowed for the element.\n",
      " |  - style (dict; optional): Defines CSS styles which will override styles previously set.\n",
      " |  - tabIndex (string; optional): Overrides the browser's default tab order and follows the one specified instead.\n",
      " |  - title (string; optional): Text to be displayed in a tooltip when hovering over the element.\n",
      " |  \n",
      " |  Available events: 'click'\n",
      " |  \n",
      " |  Method resolution order:\n",
      " |      Div\n",
      " |      dash.development.base_component.Component\n",
      " |      collections.abc.MutableMapping\n",
      " |      collections.abc.Mapping\n",
      " |      collections.abc.Collection\n",
      " |      collections.abc.Sized\n",
      " |      collections.abc.Iterable\n",
      " |      collections.abc.Container\n",
      " |      builtins.object\n",
      " |  \n",
      " |  Methods defined here:\n",
      " |  \n",
      " |  __init__ = wrapper(self, children=None, id=undefined, n_clicks=undefined, n_clicks_timestamp=undefined, key=undefined, role=undefined, accessKey=undefined, className=undefined, contentEditable=undefined, contextMenu=undefined, dir=undefined, draggable=undefined, hidden=undefined, lang=undefined, spellCheck=undefined, style=undefined, tabIndex=undefined, title=undefined, **kwargs)\n",
      " |  \n",
      " |  __repr__(self)\n",
      " |      Return repr(self).\n",
      " |  \n",
      " |  ----------------------------------------------------------------------\n",
      " |  Data and other attributes defined here:\n",
      " |  \n",
      " |  __abstractmethods__ = frozenset()\n",
      " |  \n",
      " |  ----------------------------------------------------------------------\n",
      " |  Methods inherited from dash.development.base_component.Component:\n",
      " |  \n",
      " |  __delitem__(self, id)\n",
      " |      Delete items by ID in the tree of children.\n",
      " |  \n",
      " |  __getitem__(self, id)\n",
      " |      Recursively find the element with the given ID through the tree\n",
      " |      of children.\n",
      " |  \n",
      " |  __iter__(self)\n",
      " |      Yield IDs in the tree of children.\n",
      " |  \n",
      " |  __len__(self)\n",
      " |      Return the number of items in the tree.\n",
      " |  \n",
      " |  __setitem__(self, id, item)\n",
      " |      Set an element by its ID.\n",
      " |  \n",
      " |  to_plotly_json(self)\n",
      " |  \n",
      " |  traverse(self)\n",
      " |      Yield each item in the tree.\n",
      " |  \n",
      " |  traverse_with_paths(self)\n",
      " |      Yield each item with its path in the tree.\n",
      " |  \n",
      " |  ----------------------------------------------------------------------\n",
      " |  Data descriptors inherited from dash.development.base_component.Component:\n",
      " |  \n",
      " |  __dict__\n",
      " |      dictionary for instance variables (if defined)\n",
      " |  \n",
      " |  __weakref__\n",
      " |      list of weak references to the object (if defined)\n",
      " |  \n",
      " |  ----------------------------------------------------------------------\n",
      " |  Data and other attributes inherited from dash.development.base_component.Component:\n",
      " |  \n",
      " |  REQUIRED = required\n",
      " |  \n",
      " |  UNDEFINED = undefined\n",
      " |  \n",
      " |  ----------------------------------------------------------------------\n",
      " |  Methods inherited from collections.abc.MutableMapping:\n",
      " |  \n",
      " |  clear(self)\n",
      " |      D.clear() -> None.  Remove all items from D.\n",
      " |  \n",
      " |  pop(self, key, default=<object object at 0x01BFA0B8>)\n",
      " |      D.pop(k[,d]) -> v, remove specified key and return the corresponding value.\n",
      " |      If key is not found, d is returned if given, otherwise KeyError is raised.\n",
      " |  \n",
      " |  popitem(self)\n",
      " |      D.popitem() -> (k, v), remove and return some (key, value) pair\n",
      " |      as a 2-tuple; but raise KeyError if D is empty.\n",
      " |  \n",
      " |  setdefault(self, key, default=None)\n",
      " |      D.setdefault(k[,d]) -> D.get(k,d), also set D[k]=d if k not in D\n",
      " |  \n",
      " |  update(*args, **kwds)\n",
      " |      D.update([E, ]**F) -> None.  Update D from mapping/iterable E and F.\n",
      " |      If E present and has a .keys() method, does:     for k in E: D[k] = E[k]\n",
      " |      If E present and lacks .keys() method, does:     for (k, v) in E: D[k] = v\n",
      " |      In either case, this is followed by: for k, v in F.items(): D[k] = v\n",
      " |  \n",
      " |  ----------------------------------------------------------------------\n",
      " |  Methods inherited from collections.abc.Mapping:\n",
      " |  \n",
      " |  __contains__(self, key)\n",
      " |  \n",
      " |  __eq__(self, other)\n",
      " |      Return self==value.\n",
      " |  \n",
      " |  get(self, key, default=None)\n",
      " |      D.get(k[,d]) -> D[k] if k in D, else d.  d defaults to None.\n",
      " |  \n",
      " |  items(self)\n",
      " |      D.items() -> a set-like object providing a view on D's items\n",
      " |  \n",
      " |  keys(self)\n",
      " |      D.keys() -> a set-like object providing a view on D's keys\n",
      " |  \n",
      " |  values(self)\n",
      " |      D.values() -> an object providing a view on D's values\n",
      " |  \n",
      " |  ----------------------------------------------------------------------\n",
      " |  Data and other attributes inherited from collections.abc.Mapping:\n",
      " |  \n",
      " |  __hash__ = None\n",
      " |  \n",
      " |  __reversed__ = None\n",
      " |  \n",
      " |  ----------------------------------------------------------------------\n",
      " |  Class methods inherited from collections.abc.Collection:\n",
      " |  \n",
      " |  __subclasshook__(C) from abc.ABCMeta\n",
      " |      Abstract classes can override this to customize issubclass().\n",
      " |      \n",
      " |      This is invoked early on by abc.ABCMeta.__subclasscheck__().\n",
      " |      It should return True, False or NotImplemented.  If it returns\n",
      " |      NotImplemented, the normal algorithm is used.  Otherwise, it\n",
      " |      overrides the normal algorithm (and the outcome is cached).\n",
      "\n",
      "None\n"
     ]
    }
   ],
   "source": [
    "print(help(html.Div))"
   ]
  },
  {
   "cell_type": "markdown",
   "metadata": {},
   "source": [
    "The dash layout can have several sections, declared as a list. The style of each section can be controlled within dash, which will translate this into [css](https://en.wikipedia.org/wiki/Cascading_Style_Sheets). The style is stated with dictionaries with a key name and its value. Let's see an example where we have a title and some subtitles. Note that now we are leaving out `children=` as it is implied."
   ]
  },
  {
   "cell_type": "code",
   "execution_count": 7,
   "metadata": {},
   "outputs": [
    {
     "data": {
      "text/html": [
       "<div>\n",
       "  <iframe src=\"/app/endpoints/d9fd37adafdd4bc3a89a422dccc5961f/\" width=800 height=600 frameborder=\"0\"></iframe>\n",
       "  <hr/><a href=\"/app/endpoints/d9fd37adafdd4bc3a89a422dccc5961f/\" target=\"_new\">Open in new window</a> for /app/endpoints/d9fd37adafdd4bc3a89a422dccc5961f/\n",
       "</div>"
      ],
      "text/plain": [
       "<jupyter_plotly_dash.dash_wrapper.JupyterDash at 0x13667890>"
      ]
     },
     "execution_count": 7,
     "metadata": {},
     "output_type": "execute_result"
    }
   ],
   "source": [
    "dash_app2 = JupyterDash('html play') # Define a new dash application\n",
    "\n",
    "# Define the style for this new dash application with several sections\n",
    "dash_app2.layout = html.Div([\n",
    "    html.H1('Hello World'), # Title\n",
    "    html.Div('The world is a big place', # Styled sub-title\n",
    "             style=dict(color='blue')\n",
    "             ),\n",
    "    html.Div(['One','Two'], # Two components for this section\n",
    "             style=dict(color='red',border='3px red solid')\n",
    "            )\n",
    "],style=dict(border='2px green solid')) # Global style\n",
    "\n",
    "dash_app2 # Run the new application"
   ]
  },
  {
   "cell_type": "markdown",
   "metadata": {},
   "source": [
    "**Excersise:** Using the [Dash User Guide](https://dash.plot.ly/getting-started) information change the background to black."
   ]
  }
 ],
 "metadata": {
  "kernelspec": {
   "display_name": "Python 3",
   "language": "python",
   "name": "python3"
  },
  "language_info": {
   "codemirror_mode": {
    "name": "ipython",
    "version": 3
   },
   "file_extension": ".py",
   "mimetype": "text/x-python",
   "name": "python",
   "nbconvert_exporter": "python",
   "pygments_lexer": "ipython3",
   "version": "3.6.2"
  }
 },
 "nbformat": 4,
 "nbformat_minor": 2
}
